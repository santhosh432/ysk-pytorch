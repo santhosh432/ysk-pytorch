{
  "nbformat": 4,
  "nbformat_minor": 0,
  "metadata": {
    "colab": {
      "name": "ysk-pytroch_2-autograd.ipynb",
      "provenance": []
    },
    "kernelspec": {
      "name": "python3",
      "display_name": "Python 3"
    },
    "language_info": {
      "name": "python"
    }
  },
  "cells": [
    {
      "cell_type": "code",
      "metadata": {
        "id": "FqtWVV-mGiEB"
      },
      "source": [
        "import torch"
      ],
      "execution_count": 25,
      "outputs": []
    },
    {
      "cell_type": "code",
      "metadata": {
        "id": "W5gVZqJDHbgC"
      },
      "source": [
        "x = torch.tensor([5.], requires_grad=True)"
      ],
      "execution_count": 26,
      "outputs": []
    },
    {
      "cell_type": "code",
      "metadata": {
        "id": "rsJ7OqNtIg89"
      },
      "source": [
        "y = torch.tensor([6.], requires_grad=True)"
      ],
      "execution_count": 27,
      "outputs": []
    },
    {
      "cell_type": "code",
      "metadata": {
        "colab": {
          "base_uri": "https://localhost:8080/"
        },
        "id": "yWedi_8hIkGf",
        "outputId": "ded7db2f-0ea7-4364-e265-814e2c61bb65"
      },
      "source": [
        "x"
      ],
      "execution_count": 28,
      "outputs": [
        {
          "output_type": "execute_result",
          "data": {
            "text/plain": [
              "tensor([5.], requires_grad=True)"
            ]
          },
          "metadata": {
            "tags": []
          },
          "execution_count": 28
        }
      ]
    },
    {
      "cell_type": "code",
      "metadata": {
        "colab": {
          "base_uri": "https://localhost:8080/"
        },
        "id": "0tX2SiMyIkib",
        "outputId": "6a55e2f0-f64f-4b8f-fcef-94c43f90a50d"
      },
      "source": [
        "y"
      ],
      "execution_count": 29,
      "outputs": [
        {
          "output_type": "execute_result",
          "data": {
            "text/plain": [
              "tensor([6.], requires_grad=True)"
            ]
          },
          "metadata": {
            "tags": []
          },
          "execution_count": 29
        }
      ]
    },
    {
      "cell_type": "code",
      "metadata": {
        "id": "1vhhT9-lIlLl"
      },
      "source": [
        "z = x**3 - y **2 "
      ],
      "execution_count": 30,
      "outputs": []
    },
    {
      "cell_type": "code",
      "metadata": {
        "colab": {
          "base_uri": "https://localhost:8080/"
        },
        "id": "ftb23N9MIoOQ",
        "outputId": "ff509f1b-5ae6-437a-bf32-bb579b065b71"
      },
      "source": [
        "z"
      ],
      "execution_count": 31,
      "outputs": [
        {
          "output_type": "execute_result",
          "data": {
            "text/plain": [
              "tensor([89.], grad_fn=<SubBackward0>)"
            ]
          },
          "metadata": {
            "tags": []
          },
          "execution_count": 31
        }
      ]
    },
    {
      "cell_type": "code",
      "metadata": {
        "id": "V4sAoFFQIoxD"
      },
      "source": [
        "# dy/dx = 3X**2\n",
        "# dy/dy = -2Y"
      ],
      "execution_count": 32,
      "outputs": []
    },
    {
      "cell_type": "code",
      "metadata": {
        "colab": {
          "base_uri": "https://localhost:8080/"
        },
        "id": "vtJQe-yjI5r4",
        "outputId": "6a4ee0ce-607c-409e-b00e-155ae5359bb8"
      },
      "source": [
        "print(x.grad)"
      ],
      "execution_count": 33,
      "outputs": [
        {
          "output_type": "stream",
          "text": [
            "None\n"
          ],
          "name": "stdout"
        }
      ]
    },
    {
      "cell_type": "code",
      "metadata": {
        "id": "TfC-T5vcJFl6"
      },
      "source": [
        "z.backward()  # derivative with respect to both X and Y "
      ],
      "execution_count": 36,
      "outputs": []
    },
    {
      "cell_type": "code",
      "metadata": {
        "colab": {
          "base_uri": "https://localhost:8080/"
        },
        "id": "YCcGnAjXJRnS",
        "outputId": "ca494864-40b4-4c1f-e9f0-85e5d96f9a2d"
      },
      "source": [
        "x.grad"
      ],
      "execution_count": 37,
      "outputs": [
        {
          "output_type": "execute_result",
          "data": {
            "text/plain": [
              "tensor([75.])"
            ]
          },
          "metadata": {
            "tags": []
          },
          "execution_count": 37
        }
      ]
    },
    {
      "cell_type": "code",
      "metadata": {
        "colab": {
          "base_uri": "https://localhost:8080/"
        },
        "id": "8tc9j1aKKB0w",
        "outputId": "2faf4d36-73b8-450d-a510-1bf71089f565"
      },
      "source": [
        "y.grad"
      ],
      "execution_count": 38,
      "outputs": [
        {
          "output_type": "execute_result",
          "data": {
            "text/plain": [
              "tensor([-12.])"
            ]
          },
          "metadata": {
            "tags": []
          },
          "execution_count": 38
        }
      ]
    },
    {
      "cell_type": "code",
      "metadata": {
        "id": "VhhfBg4LKQei"
      },
      "source": [
        "w = torch.randn(10, 1, requires_grad=True)"
      ],
      "execution_count": 39,
      "outputs": []
    },
    {
      "cell_type": "code",
      "metadata": {
        "id": "MzzGA9R9KZm7"
      },
      "source": [
        "b= torch.randn(1, requires_grad=True)"
      ],
      "execution_count": 43,
      "outputs": []
    },
    {
      "cell_type": "code",
      "metadata": {
        "colab": {
          "base_uri": "https://localhost:8080/"
        },
        "id": "FRfIM0jOKfMO",
        "outputId": "0bdb4828-4767-4f11-eada-9a5bb1a70adc"
      },
      "source": [
        "w"
      ],
      "execution_count": 44,
      "outputs": [
        {
          "output_type": "execute_result",
          "data": {
            "text/plain": [
              "tensor([[ 1.3010],\n",
              "        [-0.8325],\n",
              "        [-1.8958],\n",
              "        [ 0.5898],\n",
              "        [ 1.0540],\n",
              "        [-0.9107],\n",
              "        [ 0.0248],\n",
              "        [-0.7608],\n",
              "        [ 0.5802],\n",
              "        [-0.3091]], requires_grad=True)"
            ]
          },
          "metadata": {
            "tags": []
          },
          "execution_count": 44
        }
      ]
    },
    {
      "cell_type": "code",
      "metadata": {
        "colab": {
          "base_uri": "https://localhost:8080/"
        },
        "id": "5Sj25clFKoj5",
        "outputId": "e12c55d7-f65e-4e1c-fe4f-8b980cd2e7c8"
      },
      "source": [
        "b"
      ],
      "execution_count": 45,
      "outputs": [
        {
          "output_type": "execute_result",
          "data": {
            "text/plain": [
              "tensor([-0.0652], requires_grad=True)"
            ]
          },
          "metadata": {
            "tags": []
          },
          "execution_count": 45
        }
      ]
    },
    {
      "cell_type": "code",
      "metadata": {
        "id": "rcldIA5RKpXh"
      },
      "source": [
        "i = torch.rand(1,10) # normally X "
      ],
      "execution_count": 55,
      "outputs": []
    },
    {
      "cell_type": "code",
      "metadata": {
        "colab": {
          "base_uri": "https://localhost:8080/"
        },
        "id": "WHM00s99K2-1",
        "outputId": "cbbe3f96-e85a-4204-d890-7c4f058310b7"
      },
      "source": [
        "i"
      ],
      "execution_count": 56,
      "outputs": [
        {
          "output_type": "execute_result",
          "data": {
            "text/plain": [
              "tensor([[0.6674, 0.3685, 0.1304, 0.5532, 0.0479, 0.1345, 0.4997, 0.6757, 0.9024,\n",
              "         0.4230]])"
            ]
          },
          "metadata": {
            "tags": []
          },
          "execution_count": 56
        }
      ]
    },
    {
      "cell_type": "code",
      "metadata": {
        "id": "Jw7IEV9mK3nR"
      },
      "source": [
        "output = torch.matmul(i, w) + b"
      ],
      "execution_count": 63,
      "outputs": []
    },
    {
      "cell_type": "code",
      "metadata": {
        "colab": {
          "base_uri": "https://localhost:8080/"
        },
        "id": "pCQyHe_3LMtT",
        "outputId": "e2681783-3da0-477a-8d4d-21e5a336d9cf"
      },
      "source": [
        "output"
      ],
      "execution_count": 64,
      "outputs": [
        {
          "output_type": "execute_result",
          "data": {
            "text/plain": [
              "tensor([[0.3944]], grad_fn=<AddBackward0>)"
            ]
          },
          "metadata": {
            "tags": []
          },
          "execution_count": 64
        }
      ]
    },
    {
      "cell_type": "code",
      "metadata": {
        "id": "zFu4L6nkLOOM"
      },
      "source": [
        "loss = 1 - output"
      ],
      "execution_count": 65,
      "outputs": []
    },
    {
      "cell_type": "code",
      "metadata": {
        "colab": {
          "base_uri": "https://localhost:8080/"
        },
        "id": "KqbvOW3qLTs_",
        "outputId": "8b49e03c-36c5-4540-897e-9ec3c25ae879"
      },
      "source": [
        "loss"
      ],
      "execution_count": 66,
      "outputs": [
        {
          "output_type": "execute_result",
          "data": {
            "text/plain": [
              "tensor([[0.6056]], grad_fn=<RsubBackward1>)"
            ]
          },
          "metadata": {
            "tags": []
          },
          "execution_count": 66
        }
      ]
    },
    {
      "cell_type": "code",
      "metadata": {
        "id": "Lrr2Wo4rLUXn"
      },
      "source": [
        "loss.backward()"
      ],
      "execution_count": 67,
      "outputs": []
    },
    {
      "cell_type": "code",
      "metadata": {
        "colab": {
          "base_uri": "https://localhost:8080/"
        },
        "id": "XR4JyT26LjaT",
        "outputId": "8906a24d-93e3-4336-9b81-e5f616fcf29c"
      },
      "source": [
        "w.grad"
      ],
      "execution_count": 68,
      "outputs": [
        {
          "output_type": "execute_result",
          "data": {
            "text/plain": [
              "tensor([[-0.6674],\n",
              "        [-0.3685],\n",
              "        [-0.1304],\n",
              "        [-0.5532],\n",
              "        [-0.0479],\n",
              "        [-0.1345],\n",
              "        [-0.4997],\n",
              "        [-0.6757],\n",
              "        [-0.9024],\n",
              "        [-0.4230]])"
            ]
          },
          "metadata": {
            "tags": []
          },
          "execution_count": 68
        }
      ]
    },
    {
      "cell_type": "code",
      "metadata": {
        "colab": {
          "base_uri": "https://localhost:8080/"
        },
        "id": "OLD0x6rBLlKM",
        "outputId": "e5183c6e-a47a-4cee-f610-980640870ec3"
      },
      "source": [
        "b.grad"
      ],
      "execution_count": 69,
      "outputs": [
        {
          "output_type": "execute_result",
          "data": {
            "text/plain": [
              "tensor([-1.])"
            ]
          },
          "metadata": {
            "tags": []
          },
          "execution_count": 69
        }
      ]
    },
    {
      "cell_type": "code",
      "metadata": {
        "id": "IL-MJ8yiLmts"
      },
      "source": [
        "# after first iteration "
      ],
      "execution_count": 70,
      "outputs": []
    },
    {
      "cell_type": "code",
      "metadata": {
        "id": "yWf136MiLqUh"
      },
      "source": [
        "with torch.no_grad():\n",
        "  w = w - 0.01 * w.grad.data"
      ],
      "execution_count": 71,
      "outputs": []
    },
    {
      "cell_type": "code",
      "metadata": {
        "colab": {
          "base_uri": "https://localhost:8080/"
        },
        "id": "DfTfF5SuL2Hi",
        "outputId": "9f200d4c-0e5b-4b13-aa9d-24e3fc215c33"
      },
      "source": [
        "w"
      ],
      "execution_count": 72,
      "outputs": [
        {
          "output_type": "execute_result",
          "data": {
            "text/plain": [
              "tensor([[ 1.3077],\n",
              "        [-0.8288],\n",
              "        [-1.8945],\n",
              "        [ 0.5953],\n",
              "        [ 1.0545],\n",
              "        [-0.9094],\n",
              "        [ 0.0298],\n",
              "        [-0.7541],\n",
              "        [ 0.5892],\n",
              "        [-0.3049]])"
            ]
          },
          "metadata": {
            "tags": []
          },
          "execution_count": 72
        }
      ]
    },
    {
      "cell_type": "code",
      "metadata": {
        "id": "axEnKgj_L25v"
      },
      "source": [
        ""
      ],
      "execution_count": null,
      "outputs": []
    }
  ]
}