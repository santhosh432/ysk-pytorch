{
  "nbformat": 4,
  "nbformat_minor": 0,
  "metadata": {
    "colab": {
      "name": "ysk-pytorch-1.ipynb",
      "provenance": []
    },
    "kernelspec": {
      "name": "python3",
      "display_name": "Python 3"
    },
    "language_info": {
      "name": "python"
    }
  },
  "cells": [
    {
      "cell_type": "code",
      "metadata": {
        "id": "sUL89NJuAToo"
      },
      "source": [
        "import torch\n",
        "import numpy as np  "
      ],
      "execution_count": 1,
      "outputs": []
    },
    {
      "cell_type": "code",
      "metadata": {
        "id": "NS8Bw0zKAbzo"
      },
      "source": [
        "sample = [[1,2,3], [4,5,6]]"
      ],
      "execution_count": 2,
      "outputs": []
    },
    {
      "cell_type": "code",
      "metadata": {
        "colab": {
          "base_uri": "https://localhost:8080/"
        },
        "id": "Tj1AjpMcAhly",
        "outputId": "e41889ea-accc-4d4d-beac-b94c69d4eb57"
      },
      "source": [
        "sample"
      ],
      "execution_count": 5,
      "outputs": [
        {
          "output_type": "execute_result",
          "data": {
            "text/plain": [
              "[[1, 2, 3], [4, 5, 6]]"
            ]
          },
          "metadata": {
            "tags": []
          },
          "execution_count": 5
        }
      ]
    },
    {
      "cell_type": "code",
      "metadata": {
        "colab": {
          "base_uri": "https://localhost:8080/"
        },
        "id": "yF0d_72SAwuk",
        "outputId": "14cad0be-351f-4223-ec13-bffca7222139"
      },
      "source": [
        "type(sample)"
      ],
      "execution_count": 6,
      "outputs": [
        {
          "output_type": "execute_result",
          "data": {
            "text/plain": [
              "list"
            ]
          },
          "metadata": {
            "tags": []
          },
          "execution_count": 6
        }
      ]
    },
    {
      "cell_type": "code",
      "metadata": {
        "id": "6hKMyig3AijD"
      },
      "source": [
        "nsample = np.array(sample)"
      ],
      "execution_count": 9,
      "outputs": []
    },
    {
      "cell_type": "code",
      "metadata": {
        "colab": {
          "base_uri": "https://localhost:8080/"
        },
        "id": "0kb8hk3gAmHa",
        "outputId": "44d2bf95-7bf3-4e55-f1c1-131d70d0b701"
      },
      "source": [
        "type(nsample)"
      ],
      "execution_count": 10,
      "outputs": [
        {
          "output_type": "execute_result",
          "data": {
            "text/plain": [
              "numpy.ndarray"
            ]
          },
          "metadata": {
            "tags": []
          },
          "execution_count": 10
        }
      ]
    },
    {
      "cell_type": "code",
      "metadata": {
        "id": "7IPV-hjXA2U0"
      },
      "source": [
        "tsample = torch.tensor(sample)"
      ],
      "execution_count": 12,
      "outputs": []
    },
    {
      "cell_type": "code",
      "metadata": {
        "colab": {
          "base_uri": "https://localhost:8080/"
        },
        "id": "1d9w6bg4A_6V",
        "outputId": "e271a1c3-5d9b-4072-cb03-afe65f16fc59"
      },
      "source": [
        "type(tsample)"
      ],
      "execution_count": 13,
      "outputs": [
        {
          "output_type": "execute_result",
          "data": {
            "text/plain": [
              "torch.Tensor"
            ]
          },
          "metadata": {
            "tags": []
          },
          "execution_count": 13
        }
      ]
    },
    {
      "cell_type": "markdown",
      "metadata": {
        "id": "4JcFBMlcBRL1"
      },
      "source": [
        "## A tensor is a generalization of vectors and matrices and is easily understood as a multidimensional array"
      ]
    },
    {
      "cell_type": "code",
      "metadata": {
        "colab": {
          "base_uri": "https://localhost:8080/"
        },
        "id": "KyI8Ya7fBEdE",
        "outputId": "d1a280dc-fd9f-47c5-d35f-cd210f37fce4"
      },
      "source": [
        "tsample.dtype"
      ],
      "execution_count": 14,
      "outputs": [
        {
          "output_type": "execute_result",
          "data": {
            "text/plain": [
              "torch.int64"
            ]
          },
          "metadata": {
            "tags": []
          },
          "execution_count": 14
        }
      ]
    },
    {
      "cell_type": "code",
      "metadata": {
        "id": "gPQy_V4ZBnF9"
      },
      "source": [
        "np_array = np.random.randn(3,5)"
      ],
      "execution_count": 16,
      "outputs": []
    },
    {
      "cell_type": "code",
      "metadata": {
        "colab": {
          "base_uri": "https://localhost:8080/"
        },
        "id": "JZMjlpujBfft",
        "outputId": "f914c54e-df77-4251-b520-64816e141b5f"
      },
      "source": [
        "np_array"
      ],
      "execution_count": 17,
      "outputs": [
        {
          "output_type": "execute_result",
          "data": {
            "text/plain": [
              "array([[ 0.05539134,  1.34590352,  0.53753771, -0.95660329, -0.52795612],\n",
              "       [-0.87751394,  0.590305  , -0.03866599, -2.33966488, -0.32204732],\n",
              "       [-0.50357214,  1.1531002 , -1.43346504, -0.61648174, -1.40574861]])"
            ]
          },
          "metadata": {
            "tags": []
          },
          "execution_count": 17
        }
      ]
    },
    {
      "cell_type": "code",
      "metadata": {
        "colab": {
          "base_uri": "https://localhost:8080/"
        },
        "id": "HoqthUYVBuKi",
        "outputId": "7018fbac-65d7-42c4-92b1-57b9fd51483c"
      },
      "source": [
        "torch.from_numpy(np_array)"
      ],
      "execution_count": 18,
      "outputs": [
        {
          "output_type": "execute_result",
          "data": {
            "text/plain": [
              "tensor([[ 0.0554,  1.3459,  0.5375, -0.9566, -0.5280],\n",
              "        [-0.8775,  0.5903, -0.0387, -2.3397, -0.3220],\n",
              "        [-0.5036,  1.1531, -1.4335, -0.6165, -1.4057]], dtype=torch.float64)"
            ]
          },
          "metadata": {
            "tags": []
          },
          "execution_count": 18
        }
      ]
    },
    {
      "cell_type": "code",
      "metadata": {
        "colab": {
          "base_uri": "https://localhost:8080/"
        },
        "id": "Rq3gBnF4B0Pn",
        "outputId": "0c08c7ee-7cd4-4273-eabc-b7aaba8ed492"
      },
      "source": [
        "torch.tensor(np_array)"
      ],
      "execution_count": 20,
      "outputs": [
        {
          "output_type": "execute_result",
          "data": {
            "text/plain": [
              "tensor([[ 0.0554,  1.3459,  0.5375, -0.9566, -0.5280],\n",
              "        [-0.8775,  0.5903, -0.0387, -2.3397, -0.3220],\n",
              "        [-0.5036,  1.1531, -1.4335, -0.6165, -1.4057]], dtype=torch.float64)"
            ]
          },
          "metadata": {
            "tags": []
          },
          "execution_count": 20
        }
      ]
    },
    {
      "cell_type": "code",
      "metadata": {
        "colab": {
          "base_uri": "https://localhost:8080/"
        },
        "id": "vHZ7nwelB86V",
        "outputId": "790f4385-9ec4-48f9-859a-2d5d8a85e54e"
      },
      "source": [
        "torch.ones(5, 5)"
      ],
      "execution_count": 23,
      "outputs": [
        {
          "output_type": "execute_result",
          "data": {
            "text/plain": [
              "tensor([[1., 1., 1., 1., 1.],\n",
              "        [1., 1., 1., 1., 1.],\n",
              "        [1., 1., 1., 1., 1.],\n",
              "        [1., 1., 1., 1., 1.],\n",
              "        [1., 1., 1., 1., 1.]])"
            ]
          },
          "metadata": {
            "tags": []
          },
          "execution_count": 23
        }
      ]
    },
    {
      "cell_type": "code",
      "metadata": {
        "colab": {
          "base_uri": "https://localhost:8080/"
        },
        "id": "6Vur1iFaCDg0",
        "outputId": "78283f48-6611-411b-a698-8c3dfa49c13b"
      },
      "source": [
        "torch.rand(5)"
      ],
      "execution_count": 24,
      "outputs": [
        {
          "output_type": "execute_result",
          "data": {
            "text/plain": [
              "tensor([0.0799, 0.9417, 0.1142, 0.5619, 0.8731])"
            ]
          },
          "metadata": {
            "tags": []
          },
          "execution_count": 24
        }
      ]
    },
    {
      "cell_type": "code",
      "metadata": {
        "colab": {
          "base_uri": "https://localhost:8080/"
        },
        "id": "7k75t4OeCJPo",
        "outputId": "068b0167-a7a6-4b1b-a19e-5e6fb7324bcb"
      },
      "source": [
        "tsample.device"
      ],
      "execution_count": 25,
      "outputs": [
        {
          "output_type": "execute_result",
          "data": {
            "text/plain": [
              "device(type='cpu')"
            ]
          },
          "metadata": {
            "tags": []
          },
          "execution_count": 25
        }
      ]
    },
    {
      "cell_type": "code",
      "metadata": {
        "colab": {
          "base_uri": "https://localhost:8080/"
        },
        "id": "wSQqkCD0Cpuo",
        "outputId": "b204b2fb-08a9-445a-805f-c2e6a82a35f6"
      },
      "source": [
        "tsample"
      ],
      "execution_count": 26,
      "outputs": [
        {
          "output_type": "execute_result",
          "data": {
            "text/plain": [
              "tensor([[1, 2, 3],\n",
              "        [4, 5, 6]])"
            ]
          },
          "metadata": {
            "tags": []
          },
          "execution_count": 26
        }
      ]
    },
    {
      "cell_type": "code",
      "metadata": {
        "id": "E577ZQrxCweK"
      },
      "source": [
        "# tsample.to(device='cuda') # no GP error "
      ],
      "execution_count": 29,
      "outputs": []
    },
    {
      "cell_type": "code",
      "metadata": {
        "colab": {
          "base_uri": "https://localhost:8080/"
        },
        "id": "YXfzdbr1C7GC",
        "outputId": "fbb8dd03-d691-40e7-a77a-e08a5f4b79b4"
      },
      "source": [
        "tsample.mul(tsample)  # element wise multiplication "
      ],
      "execution_count": 33,
      "outputs": [
        {
          "output_type": "execute_result",
          "data": {
            "text/plain": [
              "tensor([[ 1,  4,  9],\n",
              "        [16, 25, 36]])"
            ]
          },
          "metadata": {
            "tags": []
          },
          "execution_count": 33
        }
      ]
    },
    {
      "cell_type": "code",
      "metadata": {
        "colab": {
          "base_uri": "https://localhost:8080/"
        },
        "id": "ukeHBgx-DkYa",
        "outputId": "4d638011-b115-4d36-8ac4-0b5eb7a601cc"
      },
      "source": [
        "tsample.shape  # 2 rows 3 columns"
      ],
      "execution_count": 36,
      "outputs": [
        {
          "output_type": "execute_result",
          "data": {
            "text/plain": [
              "torch.Size([2, 3])"
            ]
          },
          "metadata": {
            "tags": []
          },
          "execution_count": 36
        }
      ]
    },
    {
      "cell_type": "code",
      "metadata": {
        "colab": {
          "base_uri": "https://localhost:8080/"
        },
        "id": "fXYjMKogDJRY",
        "outputId": "aa5e51f2-e1a0-49a6-ef8e-a8d7321fb397"
      },
      "source": [
        "torch.matmul(tsample, tsample.T)"
      ],
      "execution_count": 40,
      "outputs": [
        {
          "output_type": "execute_result",
          "data": {
            "text/plain": [
              "tensor([[14, 32],\n",
              "        [32, 77]])"
            ]
          },
          "metadata": {
            "tags": []
          },
          "execution_count": 40
        }
      ]
    },
    {
      "cell_type": "code",
      "metadata": {
        "colab": {
          "base_uri": "https://localhost:8080/"
        },
        "id": "PfRu4BvND5ZK",
        "outputId": "06acfd1e-f83a-4043-9d29-9e5f69221992"
      },
      "source": [
        "tsample"
      ],
      "execution_count": 41,
      "outputs": [
        {
          "output_type": "execute_result",
          "data": {
            "text/plain": [
              "tensor([[1, 2, 3],\n",
              "        [4, 5, 6]])"
            ]
          },
          "metadata": {
            "tags": []
          },
          "execution_count": 41
        }
      ]
    },
    {
      "cell_type": "code",
      "metadata": {
        "colab": {
          "base_uri": "https://localhost:8080/"
        },
        "id": "Gr41mky8DyKd",
        "outputId": "8194c58e-fcc5-4f15-9e13-ff667ebda16f"
      },
      "source": [
        "tsample.sum(axis=1)"
      ],
      "execution_count": 39,
      "outputs": [
        {
          "output_type": "execute_result",
          "data": {
            "text/plain": [
              "tensor([ 6, 15])"
            ]
          },
          "metadata": {
            "tags": []
          },
          "execution_count": 39
        }
      ]
    },
    {
      "cell_type": "code",
      "metadata": {
        "colab": {
          "base_uri": "https://localhost:8080/"
        },
        "id": "7YYgqGV2DcQO",
        "outputId": "cb3c3ffb-e96f-41cc-b00d-348e375941a1"
      },
      "source": [
        "tsample.sum(axis=0)"
      ],
      "execution_count": 42,
      "outputs": [
        {
          "output_type": "execute_result",
          "data": {
            "text/plain": [
              "tensor([5, 7, 9])"
            ]
          },
          "metadata": {
            "tags": []
          },
          "execution_count": 42
        }
      ]
    },
    {
      "cell_type": "code",
      "metadata": {
        "colab": {
          "base_uri": "https://localhost:8080/"
        },
        "id": "WPQ-DDzUD_Qt",
        "outputId": "254f1251-0d1d-418d-f528-d5e76037bb64"
      },
      "source": [
        "tsample.min()"
      ],
      "execution_count": 43,
      "outputs": [
        {
          "output_type": "execute_result",
          "data": {
            "text/plain": [
              "tensor(1)"
            ]
          },
          "metadata": {
            "tags": []
          },
          "execution_count": 43
        }
      ]
    },
    {
      "cell_type": "code",
      "metadata": {
        "colab": {
          "base_uri": "https://localhost:8080/"
        },
        "id": "-q9lwBcTEF82",
        "outputId": "1d59b9dc-ac4d-4156-84aa-12a0c333466c"
      },
      "source": [
        "tsample.max()"
      ],
      "execution_count": 49,
      "outputs": [
        {
          "output_type": "execute_result",
          "data": {
            "text/plain": [
              "tensor(6)"
            ]
          },
          "metadata": {
            "tags": []
          },
          "execution_count": 49
        }
      ]
    },
    {
      "cell_type": "code",
      "metadata": {
        "colab": {
          "base_uri": "https://localhost:8080/"
        },
        "id": "HEFV6OBlE1Nq",
        "outputId": "81646f1f-774f-4a4c-cbfe-8cb5cf57df4c"
      },
      "source": [
        "st = torch.rand(5)\n",
        "st"
      ],
      "execution_count": 50,
      "outputs": [
        {
          "output_type": "execute_result",
          "data": {
            "text/plain": [
              "tensor([0.5972, 0.1376, 0.0540, 0.7222, 0.2580])"
            ]
          },
          "metadata": {
            "tags": []
          },
          "execution_count": 50
        }
      ]
    },
    {
      "cell_type": "code",
      "metadata": {
        "colab": {
          "base_uri": "https://localhost:8080/"
        },
        "id": "FKjXkec3EILW",
        "outputId": "552fe0c7-e098-4aa5-e5b8-fed83963e982"
      },
      "source": [
        "torch.nn.functional.softmax(st, dim=0)"
      ],
      "execution_count": 51,
      "outputs": [
        {
          "output_type": "execute_result",
          "data": {
            "text/plain": [
              "tensor([0.2464, 0.1556, 0.1431, 0.2792, 0.1755])"
            ]
          },
          "metadata": {
            "tags": []
          },
          "execution_count": 51
        }
      ]
    },
    {
      "cell_type": "code",
      "metadata": {
        "id": "Ep9pX2nfEg0V"
      },
      "source": [
        ""
      ],
      "execution_count": null,
      "outputs": []
    }
  ]
}