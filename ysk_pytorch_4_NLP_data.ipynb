{
  "nbformat": 4,
  "nbformat_minor": 0,
  "metadata": {
    "colab": {
      "name": "ysk-pytorch-4-NLP-data.ipynb",
      "provenance": []
    },
    "kernelspec": {
      "name": "python3",
      "display_name": "Python 3"
    },
    "language_info": {
      "name": "python"
    }
  },
  "cells": [
    {
      "cell_type": "code",
      "metadata": {
        "id": "Uk23pimZyS1h"
      },
      "source": [
        "import torch"
      ],
      "execution_count": 3,
      "outputs": []
    },
    {
      "cell_type": "code",
      "metadata": {
        "id": "3a8lu8q0ywBE"
      },
      "source": [
        "class CustomDataSet():\n",
        "  def __init__(self, data, targets, tokenizer):\n",
        "    self.data = data\n",
        "    self.targets = targets\n",
        "    self.tokenizer = tokenizer\n",
        "\n",
        "  def __len__(self):\n",
        "    return len(self.data)\n",
        "\n",
        "  def __getitem__(self, idx):\n",
        "    text = self.data[idx]\n",
        "    if self.targets.shape[1] > 1:\n",
        "      target = self.targets[idx, :]\n",
        "    else:\n",
        "      target = self.targets[idx]\n",
        "\n",
        "    input_ids = tokenizer(text)\n",
        "\n",
        "    # for multi label \n",
        "    # [1,0,0,1]\n",
        "    \n",
        "\n",
        "    # padding \n",
        "    # \n",
        "    return {'text': torch.tensor(input_ids, dtype=torch.long),\n",
        "            'target': torch.tensor(target)\n",
        "            }\n"
      ],
      "execution_count": 4,
      "outputs": []
    },
    {
      "cell_type": "code",
      "metadata": {
        "id": "Q4bj--xy1mkA"
      },
      "source": [
        ""
      ],
      "execution_count": 13,
      "outputs": []
    },
    {
      "cell_type": "code",
      "metadata": {
        "id": "Jb-WPLn_1uiB"
      },
      "source": [
        ""
      ],
      "execution_count": 13,
      "outputs": []
    },
    {
      "cell_type": "code",
      "metadata": {
        "id": "gBltP0RO10Q_"
      },
      "source": [
        ""
      ],
      "execution_count": null,
      "outputs": []
    }
  ]
}