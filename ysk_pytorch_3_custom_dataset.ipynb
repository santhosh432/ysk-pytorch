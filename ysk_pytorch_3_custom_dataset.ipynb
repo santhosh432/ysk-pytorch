{
  "nbformat": 4,
  "nbformat_minor": 0,
  "metadata": {
    "colab": {
      "name": "ysk-pytorch_3_custom_dataset",
      "provenance": []
    },
    "kernelspec": {
      "name": "python3",
      "display_name": "Python 3"
    },
    "language_info": {
      "name": "python"
    }
  },
  "cells": [
    {
      "cell_type": "code",
      "metadata": {
        "id": "5g7Ei7w1u79E"
      },
      "source": [
        "import torch \n",
        "from sklearn.datasets import make_classification"
      ],
      "execution_count": 3,
      "outputs": []
    },
    {
      "cell_type": "code",
      "metadata": {
        "id": "OI1nzNgFvTPw"
      },
      "source": [
        "class CustomDataset:\n",
        "  def __init__(self, data, target):\n",
        "    self.data = data\n",
        "    self.target = target\n",
        "  \n",
        "  def __len__(self):\n",
        "    return self.data.shape[0]\n",
        "  \n",
        "  def __getitem__(self, idx):\n",
        "    current_data = self.data[idx, :]\n",
        "    current_target = self.target[idx]\n",
        "\n",
        "    return {\n",
        "        'x': current_data,\n",
        "        'y': current_target\n",
        "    }\n",
        "\n"
      ],
      "execution_count": 20,
      "outputs": []
    },
    {
      "cell_type": "code",
      "metadata": {
        "id": "ZvtAchLGv0Qg"
      },
      "source": [
        "data, targets = make_classification(n_samples=500)"
      ],
      "execution_count": 21,
      "outputs": []
    },
    {
      "cell_type": "code",
      "metadata": {
        "colab": {
          "base_uri": "https://localhost:8080/"
        },
        "id": "C2i9YAUCwPL_",
        "outputId": "90e0603b-296f-475c-b802-09145a003c2a"
      },
      "source": [
        "data.shape"
      ],
      "execution_count": 22,
      "outputs": [
        {
          "output_type": "execute_result",
          "data": {
            "text/plain": [
              "(500, 20)"
            ]
          },
          "metadata": {
            "tags": []
          },
          "execution_count": 22
        }
      ]
    },
    {
      "cell_type": "code",
      "metadata": {
        "colab": {
          "base_uri": "https://localhost:8080/"
        },
        "id": "_2GRMHs1wPt6",
        "outputId": "ad507858-6430-4c7e-85f2-559e2c627e58"
      },
      "source": [
        "targets.shape"
      ],
      "execution_count": 23,
      "outputs": [
        {
          "output_type": "execute_result",
          "data": {
            "text/plain": [
              "(500,)"
            ]
          },
          "metadata": {
            "tags": []
          },
          "execution_count": 23
        }
      ]
    },
    {
      "cell_type": "code",
      "metadata": {
        "id": "YZ5V4w3AwQlQ"
      },
      "source": [
        "custom_data = CustomDataset(data=data, target=targets)"
      ],
      "execution_count": 24,
      "outputs": []
    },
    {
      "cell_type": "code",
      "metadata": {
        "colab": {
          "base_uri": "https://localhost:8080/"
        },
        "id": "Xe0jLwYwwZWI",
        "outputId": "ae5d5f3d-4072-429a-9ae1-c57ca17c1c92"
      },
      "source": [
        "len(custom_data)"
      ],
      "execution_count": 25,
      "outputs": [
        {
          "output_type": "execute_result",
          "data": {
            "text/plain": [
              "500"
            ]
          },
          "metadata": {
            "tags": []
          },
          "execution_count": 25
        }
      ]
    },
    {
      "cell_type": "code",
      "metadata": {
        "colab": {
          "base_uri": "https://localhost:8080/"
        },
        "id": "B8BTrbUyxL68",
        "outputId": "05896c6b-d626-4c90-a148-e859207a5ac8"
      },
      "source": [
        "custom_data[5]['x']"
      ],
      "execution_count": 27,
      "outputs": [
        {
          "output_type": "execute_result",
          "data": {
            "text/plain": [
              "array([ 0.53944543, -1.2387699 ,  0.30811896, -1.30535879,  0.38637508,\n",
              "        0.54736536, -0.42553479,  0.61608527,  0.07941089, -0.43375458,\n",
              "        0.83913293,  0.63704191, -0.956298  ,  0.20837348,  0.18413   ,\n",
              "        0.05495269,  0.30191714,  1.82649235,  0.51283355,  0.4906611 ])"
            ]
          },
          "metadata": {
            "tags": []
          },
          "execution_count": 27
        }
      ]
    },
    {
      "cell_type": "code",
      "metadata": {
        "colab": {
          "base_uri": "https://localhost:8080/"
        },
        "id": "jxhY3lx8xPHH",
        "outputId": "c5edb36d-8fe2-43ab-b797-9ea8fdee6607"
      },
      "source": [
        "custom_data[5]['y']"
      ],
      "execution_count": 28,
      "outputs": [
        {
          "output_type": "execute_result",
          "data": {
            "text/plain": [
              "1"
            ]
          },
          "metadata": {
            "tags": []
          },
          "execution_count": 28
        }
      ]
    },
    {
      "cell_type": "code",
      "metadata": {
        "id": "02R0TLsUxSbp"
      },
      "source": [
        ""
      ],
      "execution_count": null,
      "outputs": []
    }
  ]
}